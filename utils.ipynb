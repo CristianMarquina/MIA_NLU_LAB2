{
 "cells": [
  {
   "cell_type": "markdown",
   "metadata": {
    "id": "_va5zRB7aCMT"
   },
   "source": [
    "# **Useful functions for your lab assigments**\n",
    "\n"
   ]
  },
  {
   "cell_type": "markdown",
   "metadata": {
    "id": "PL19eRkPbg8T"
   },
   "source": [
    "**numpy.argmax: Returns the indices of the maximum values along an axis. See: https://numpy.org/doc/stable/reference/generated/numpy.argmax.html**"
   ]
  },
  {
   "cell_type": "code",
   "execution_count": 1,
   "metadata": {
    "colab": {
     "base_uri": "https://localhost:8080/"
    },
    "executionInfo": {
     "elapsed": 19,
     "status": "ok",
     "timestamp": 1647851741617,
     "user": {
      "displayName": "David Vilares",
      "photoUrl": "https://lh3.googleusercontent.com/a-/AOh14GgY5xJ7OGo_6cJeWxW5f0lKNDH9mjhvhND7UBDuyw=s64",
      "userId": "14796473427498895857"
     },
     "user_tz": -60
    },
    "id": "YEbmKUJBZ--a",
    "outputId": "9d1ee2e7-3820-4f2b-b1a0-a39adc89a9ec"
   },
   "outputs": [
    {
     "name": "stdout",
     "output_type": "stream",
     "text": [
      "Sample array\n",
      "[0.59935275 0.99050926 0.84837064 0.38341885 0.21861369 0.49378841\n",
      " 0.69413672 0.31575224 0.56926611 0.00267327]\n",
      "Index 1 has the highest value (0.9905092633135911) of the array\n"
     ]
    }
   ],
   "source": [
    "import numpy as np\n",
    "array = np.random.rand(10)\n",
    "print (\"Sample array\")\n",
    "print (array)\n",
    "idxmax = np.argmax(array)\n",
    "print (\"Index {} has the highest value ({}) of the array\".format(idxmax, array[idxmax]))"
   ]
  },
  {
   "cell_type": "markdown",
   "metadata": {
    "id": "RF_ZtTdiBafZ"
   },
   "source": [
    "**tqdm - Helps estimate the computation time of a loop**"
   ]
  },
  {
   "cell_type": "code",
   "execution_count": 3,
   "metadata": {
    "colab": {
     "base_uri": "https://localhost:8080/"
    },
    "executionInfo": {
     "elapsed": 5336,
     "status": "ok",
     "timestamp": 1647851762822,
     "user": {
      "displayName": "David Vilares",
      "photoUrl": "https://lh3.googleusercontent.com/a-/AOh14GgY5xJ7OGo_6cJeWxW5f0lKNDH9mjhvhND7UBDuyw=s64",
      "userId": "14796473427498895857"
     },
     "user_tz": -60
    },
    "id": "-pZMrAt7B1_5",
    "outputId": "0746f33d-0d1f-426d-8616-24ea99da65f8"
   },
   "outputs": [
    {
     "name": "stderr",
     "output_type": "stream",
     "text": [
      "100%|████████████████████████████████████████████████████████████████| 1000/1000 [00:05<00:00, 191.37it/s]\n"
     ]
    }
   ],
   "source": [
    "import tqdm\n",
    "import time\n",
    "\n",
    "for i in tqdm.tqdm(range(1000)):\n",
    "  time.sleep(0.005)"
   ]
  },
  {
   "cell_type": "code",
   "execution_count": null,
   "metadata": {},
   "outputs": [],
   "source": [
    "def load_conllu_data(filepath):\n",
    "    \"\"\"\n",
    "    Carga y procesa un archivo CoNLL-U, extrayendo las oraciones y sus etiquetas UPOS.\n",
    "    \"\"\"\n",
    "    sentences = []\n",
    "    tags = []\n",
    "    current_sentence = []\n",
    "    current_tags = []\n",
    "\n",
    "    with open(filepath, 'r', encoding='utf-8') as f:\n",
    "        for line in f:\n",
    "            line = line.strip()\n",
    "\n",
    "            # 1. Ignorar comentarios y líneas vacías que no sean separadores de oración\n",
    "            if line.startswith('#'):\n",
    "                continue\n",
    "            \n",
    "            # 2. Línea en blanco: indica el final de una oración\n",
    "            elif line == '':\n",
    "                if current_sentence:\n",
    "                    sentences.append(current_sentence)\n",
    "                    tags.append(current_tags)\n",
    "                    current_sentence = []\n",
    "                    current_tags = []\n",
    "            \n",
    "            # 3. Procesar línea de palabra\n",
    "            else:\n",
    "                fields = line.split('\\t')\n",
    "                \n",
    "                # Ignorar tokens multiword (ID con guion, e.g., '1-2') o nodos vacíos (ID con punto, e.g., '1.1') \n",
    "                if '-' in fields[0] or '.' in fields[0]:\n",
    "                    continue\n",
    "\n",
    "                # Extraer la palabra (FORM, índice 1) y la etiqueta PoS (UPOS, índice 3)\n",
    "                word = fields[1]\n",
    "                pos_tag = fields[3]\n",
    "                \n",
    "                current_sentence.append(word)\n",
    "                current_tags.append(pos_tag)\n",
    "\n",
    "    # Asegurarse de añadir la última oración si el archivo no termina en línea vacía\n",
    "    if current_sentence:\n",
    "        sentences.append(current_sentence)\n",
    "        tags.append(current_tags)\n",
    "\n",
    "    return sentences, tags\n",
    "\n",
    "# Ejemplo de uso (asumiendo que los archivos están en la misma carpeta):\n",
    "# train_sents, train_tags = load_conllu_data('en_ewt-ud-train.conllu')\n",
    "# dev_sents, dev_tags = load_conllu_data('en_ewt-ud-dev.conllu')\n",
    "# test_sents, test_tags = load_conllu_data('en_ewt-ud-test.conllu')"
   ]
  }
 ],
 "metadata": {
  "colab": {
   "authorship_tag": "ABX9TyMKJ2L6cxqmuUVCZKTZQw7k",
   "provenance": []
  },
  "kernelspec": {
   "display_name": "Python 3 (ipykernel)",
   "language": "python",
   "name": "python3"
  },
  "language_info": {
   "codemirror_mode": {
    "name": "ipython",
    "version": 3
   },
   "file_extension": ".py",
   "mimetype": "text/x-python",
   "name": "python",
   "nbconvert_exporter": "python",
   "pygments_lexer": "ipython3",
   "version": "3.13.7"
  }
 },
 "nbformat": 4,
 "nbformat_minor": 4
}
